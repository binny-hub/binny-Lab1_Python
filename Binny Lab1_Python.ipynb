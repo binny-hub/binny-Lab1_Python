{
 "cells": [
  {
   "cell_type": "markdown",
   "id": "2c8f47d3",
   "metadata": {
    "id": "2c8f47d3"
   },
   "source": [
    "# Lab Session"
   ]
  },
  {
   "cell_type": "markdown",
   "id": "f637aba6",
   "metadata": {
    "id": "f637aba6"
   },
   "source": [
    "## <font color='blue'> Table Of Contents </font>\n",
    "- Problem Statement \n",
    "- Load required libraries\n",
    "- Connect to DB using mysql-connector-python package\n",
    "- Create database named `e_commerce`\n",
    "- Create tables and insert data into tables as specified in the question\n",
    "- Read all the questions and write sql queries to meet the objective "
   ]
  },
  {
   "cell_type": "markdown",
   "id": "1073fc90",
   "metadata": {
    "id": "1073fc90"
   },
   "source": [
    "## <font color='blue'> Problem Statement </font>\n",
    "###  An E-commerce website manages its data in the form of various tables.\n",
    "You need to create a Database called `e_commerce` and various tables in it. The tables needed and attributes which need to be in every table are given before hand. All you have to do is create tables with data in it and answer some of the questions that follows."
   ]
  },
  {
   "cell_type": "markdown",
   "id": "48787355",
   "metadata": {
    "id": "48787355"
   },
   "source": [
    "### e_commerce Schema:"
   ]
  },
  {
   "cell_type": "markdown",
   "id": "78938fbc",
   "metadata": {
    "id": "78938fbc"
   },
   "source": [
    "![e_commerce%20_schema.png](attachment:e_commerce%20_schema.png)"
   ]
  },
  {
   "cell_type": "markdown",
   "id": "d9abe6c7",
   "metadata": {
    "id": "d9abe6c7"
   },
   "source": [
    "### Load Required Libraries"
   ]
  },
  {
   "cell_type": "code",
   "execution_count": null,
   "id": "0178d08e",
   "metadata": {
    "id": "0178d08e"
   },
   "outputs": [],
   "source": [
    "import mysql.connector as sqlcon"
   ]
  },
  {
   "cell_type": "markdown",
   "id": "d7d7fd5c",
   "metadata": {
    "id": "d7d7fd5c"
   },
   "source": [
    "### Connect to DB using Mysql-connector-python package"
   ]
  },
  {
   "cell_type": "code",
   "execution_count": 1,
   "id": "ef7bef72",
   "metadata": {
    "id": "ef7bef72"
   },
   "outputs": [],
   "source": [
    "connection = sqlcon.connect(host= \"localhost\", user = \"root\", passwd = \"root123\")"
   ]
  },
  {
   "cell_type": "markdown",
   "id": "9d55e510",
   "metadata": {
    "id": "9d55e510"
   },
   "source": [
    "### You are required to create a database named 'e_commerce'"
   ]
  },
  {
   "cell_type": "code",
   "execution_count": 4,
   "id": "42a154f2",
   "metadata": {
    "id": "42a154f2"
   },
   "outputs": [],
   "source": [
    "query = \"create database ecommerce\"\n",
    "cursor1 = connection.cursor()\n",
    "cursor1.execute(query)\n",
    "connection.commit()\n",
    "connection.close()"
   ]
  },
  {
   "cell_type": "markdown",
   "id": "480dc986",
   "metadata": {
    "id": "480dc986"
   },
   "source": [
    "### Q1. Create tables for supplier, customer, category, product, productDetails, order, rating to store the data for the E-commerce with the schema definition given below.\n",
    "\n",
    "\n",
    "- **`supplier`**(SUPP_ID int primary key, SUPP_NAME varchar(50), SUPP_CITY varchar(50), SUPP_PHONE varchar(10))\n",
    "\n",
    "\n",
    "- **`customer`** (CUS_ID INT NOT NULL, CUS_NAME VARCHAR(20) NULL DEFAULT NULL, CUS_PHONE VARCHAR(10), CUS_CITY varchar(30) ,CUS_GENDER CHAR,PRIMARY KEY (CUS_ID))\n",
    "\n",
    "\n",
    "- **`category`** (CAT_ID INT NOT NULL, CAT_NAME VARCHAR(20) NULL DEFAULT NULL,PRIMARY KEY (CAT_ID))\n",
    "\n",
    "\n",
    "- **`product`** (PRO_ID INT NOT NULL, PRO_NAME VARCHAR(20) NULL DEFAULT NULL, PRO_DESC VARCHAR(60) NULL DEFAULT NULL, CAT_ID INT NOT NULL,PRIMARY KEY (PRO_ID),FOREIGN KEY (CAT_ID) REFERENCES CATEGORY (CAT_ID))\n",
    "\n",
    "\n",
    "- **`product_details`** (PROD_ID INT NOT NULL, PRO_ID INT NOT NULL, SUPP_ID INT NOT NULL, PROD_PRICE INT NOT NULL,\n",
    "  PRIMARY KEY (PROD_ID),FOREIGN KEY (PRO_ID) REFERENCES PRODUCT (PRO_ID), FOREIGN KEY (SUPP_ID) REFERENCES SUPPLIER(SUPP_ID))\n",
    "  \n",
    "  \n",
    "- **`order`** (ORD_ID INT NOT NULL, ORD_AMOUNT INT NOT NULL, ORD_DATE DATE, CUS_ID INT NOT NULL, PROD_ID INT NOT NULL,PRIMARY KEY (ORD_ID),FOREIGN KEY (CUS_ID) REFERENCES CUSTOMER(CUS_ID),FOREIGN KEY (PROD_ID) REFERENCES PRODUCT_DETAILS(PROD_ID))\n",
    "\n",
    "\n",
    "- **`rating`** (RAT_ID INT NOT NULL, CUS_ID INT NOT NULL, SUPP_ID INT NOT NULL, RAT_RATSTARS INT NOT NULL,PRIMARY KEY (RAT_ID),FOREIGN KEY (SUPP_ID) REFERENCES SUPPLIER (SUPP_ID),FOREIGN KEY (CUS_ID) REFERENCES CUSTOMER(CUS_ID))"
   ]
  },
  {
   "cell_type": "code",
   "execution_count": 5,
   "id": "967b718f",
   "metadata": {
    "id": "967b718f"
   },
   "outputs": [],
   "source": [
    "connection = sqlcon.connect(host= \"localhost\", user = \"root\", passwd = \"root123\", database =\"ecommerce\")\n",
    "q1 = \"create table customer(cus_id int auto_increment primary key, cus_name varchar(50) null default null, cus_phone bigint, cus_city varchar(50), cus_gender char\"\n",
    "q2= \"create table supplier(supp_id int auto_increment primary key, supp_name varchar(50), supp_city varchar(50), supp_phone bigint)\"\n",
    "q3= \"create table category(cat_id int auto_increment primary key, cat_name varchar(50))\"\n",
    "q4= \"create table product(pro_id int auto_increment primary key, pro_name varchar(50) null default null, pro_desc varchar(50) null default null, cat_id int not null, foreign key (cat_id) references category(cat_id))\"\n",
    "q5= \"create table productdetails(prod_id int auto_increment primary key not null, pro_id int not null, supp_id int not null, price float not null,FOREIGN KEY (PRO_ID) REFERENCES PRODUCT (PRO_ID), FOREIGN KEY (SUPP_ID) REFERENCES SUPPLIER(SUPP_ID))\"\n",
    "q6= \"create table orders(ORD_ID INT NOT NULL, ORD_AMOUNT INT NOT NULL, ORD_DATE DATE, CUS_ID INT NOT NULL, PROD_ID INT NOT NULL,PRIMARY KEY (ORD_ID),FOREIGN KEY (CUS_ID) REFERENCES CUSTOMER(CUS_ID),FOREIGN KEY (PROD_ID) REFERENCES PRODUCT_DETAILS(PROD_ID))\"\n",
    "q7= \"create table rating(rat_id int primary key auto_increment, cus_id int not null, supp_id int not null, rat_ratstars int not null, foreign key(cus_id) references customer(cus_id), foreign key(supp_id) references supplier(supp_id))\""
   ]
  },
  {
   "cell_type": "markdown",
   "id": "1f653731",
   "metadata": {
    "id": "1f653731"
   },
   "source": [
    "### Q2. Insert the following data in the table created above\n",
    "#### `Note:` If you are getting any error while inserting the data into tables, Kindly close the connection and reconnect\n",
    "\n",
    "#### Table:  supplier\n",
    "| SUPP_ID | SUPP_NAME | SUPP_CITY | SUPP_PHONE |\n",
    "| --- | --- | --- | --- | \n",
    "| 1 | Rajesh Retails | Delhi | 1234567890 |\n",
    "| 2 | Appario Ltd. | Mumbai | 258963147032 | \n",
    "| 3 | Knome products | Bangalore | 9785462315 |\n",
    "| 4 | Bansal Retails | Kochi | 8975463285 |\n",
    "| 5 | Mittal Ltd. | Lucknow | 7898456532 |"
   ]
  },
  {
   "cell_type": "code",
   "execution_count": null,
   "id": "f6dddd07",
   "metadata": {
    "id": "f6dddd07"
   },
   "outputs": [],
   "source": [
    "val= [(1,\"Rajesh Retails\", \"Delhi\",1234567890),(2, \"Appario Ltd\", \"Mumbai\", 258963147032),(3, \"Knome products\", \"Bangalore\", 9785462315), (4, \"Bansal Retails\", \"Kochi\", 8975463285),(5,\"Mittal Ltd.\", \"Lucknow\", 78984456532)]\n",
    "insert_supp_details= \"\"\"insert into supplier(supp_id, supp_name, supp_city, supp_phone) values(%s,%s,%s,%s)\"\"\"\n",
    "cursor1.executemany(insert_supp_details,val)\n",
    "connection.commit()"
   ]
  },
  {
   "cell_type": "markdown",
   "id": "e8a070a6",
   "metadata": {
    "id": "e8a070a6"
   },
   "source": [
    "#### Table:  customer\n",
    "| CUS_ID | CUS_NAME | SUPP_PHONE | CUS_CITY | CUS_GENDER\n",
    "| --- | --- | --- | --- | --- |\n",
    "| 1 | AAKASH | 9999999999 | DELHI | M |\n",
    "| 2 | AMAN | 9785463215 | NOIDA | M |\n",
    "| 3 | NEHA | 9999999998 | MUMBAI | F |\n",
    "| 4 | MEGHA | 9994562399 | KOLKATA | F |\n",
    "| 5 | PULKIT | 7895999999 | LUCKNOW | M |"
   ]
  },
  {
   "cell_type": "code",
   "execution_count": null,
   "id": "15a4ee87",
   "metadata": {
    "id": "15a4ee87"
   },
   "outputs": [],
   "source": [
    "val = [(1,\"Aakash\", 9999999999, \"DELHI\", \"M\"), (2, \"AMAN\", 9785463215,\"NOIDA\", \"M\"), (3, \"NEHA\", 99999999998,\"MUMBAI\", \"F\"), (4, \"MEGHA\", 9994562399, \"KOLKATA\", \"F\"),(5, \"PULKIT\", 7895999999, \"LUCKNOW\", \"M\")]\n",
    "insert_cust_details= \"\"\"insert into customer values(%s,%s,%s,%s,%s)\"\"\"\n",
    "cursor1.executemany(insert_cust_details,val)\n",
    "connection.commit()"
   ]
  },
  {
   "cell_type": "markdown",
   "id": "b68bfbc2",
   "metadata": {
    "id": "b68bfbc2"
   },
   "source": [
    "#### Table:  category\n",
    "| CAT_ID | CAT_NAME | \n",
    "| --- | --- |  \n",
    "| 1 | BOOKS |\n",
    "| 2 | GAMES |  \n",
    "| 3 | GROCERIES | \n",
    "| 4 | ELECTRONICS | \n",
    "| 5 | CLOTHES | "
   ]
  },
  {
   "cell_type": "code",
   "execution_count": null,
   "id": "05a00abc",
   "metadata": {
    "id": "05a00abc"
   },
   "outputs": [],
   "source": [
    "insert_category_details= \"\"\"insert into category values(%s,%s)\"\"\"\n",
    "val= [(1, \"BOOKS\"), (2, \"GAMES\"), (3, \"GROCERIES\"), (4, \"ELECTRONICS\"), (5, \"CLOTHES\")]\n",
    "cursor1.executemany(insert_category_details,val)\n",
    "connection.commit()\n"
   ]
  },
  {
   "cell_type": "markdown",
   "id": "eb3bc592",
   "metadata": {
    "id": "eb3bc592"
   },
   "source": [
    "#### Table:  product\n",
    "| PRO_ID | PRO_NAME | PRO_DESC | CAT_ID |\n",
    "| --- | --- | --- | --- | \n",
    "| 1 | GTA V | DFJDJFDJFDJFDJFJF | 2 |\n",
    "| 2 | TSHIRT | DFDFJDFJDKFD | 5 | \n",
    "| 3 | ROG LAPTOP | DFNTTNTNTERND | 4 |\n",
    "| 4 | OATS | REURENTBTOTH | 3 |\n",
    "| 5 | HARRY POTTER | NBEMCTHTJTH | 1 |\n"
   ]
  },
  {
   "cell_type": "code",
   "execution_count": null,
   "id": "cdfbdfad",
   "metadata": {
    "id": "cdfbdfad"
   },
   "outputs": [],
   "source": [
    "insert_prod_details=\"\"\"insert into product values(%s,%s,%s,%s)\"\"\"\n",
    "val =[(1,\"GTAV\", \"dfjjghghgjhkljlk\", 2), (2, \"TSHIRT\", \"JGJHJKLHJKH\",5),(3, \"ROG LAPTOP\", \"GHGFJHGJ\", 4), (4, \"OATS\", \"VHGGGGHHKJ\", 3), (5, \"HARRY POTTER\", \"VBNHJGHJGJ\",1)]\n",
    "cursor1.executemany(insert_prod_details,val)\n",
    "connection.commit()"
   ]
  },
  {
   "cell_type": "markdown",
   "id": "cfa8a47d",
   "metadata": {
    "id": "cfa8a47d"
   },
   "source": [
    "#### Table:  product_details\n",
    "| PROD_ID | PRO_ID | SUPP_ID | PROD_PRICE |\n",
    "| --- | --- | --- | --- | \n",
    "| 1 | 1 | 2 | 1500 |\n",
    "| 2 | 3 | 5 | 30000 | \n",
    "| 3 | 5 | 1 | 3000 |\n",
    "| 4 | 2 | 3 | 2500 |\n",
    "| 5 | 4 | 1 | 1000 |"
   ]
  },
  {
   "cell_type": "code",
   "execution_count": 31,
   "id": "c18ea964",
   "metadata": {
    "id": "c18ea964"
   },
   "outputs": [],
   "source": [
    "connection.close()\n",
    "connection = sqlcon.connect(host= \"localhost\", user = \"root\", passwd = \"root123\", database =\"ecommerce\")\n",
    "cursor1= connection.cursor()\n",
    "insert_ProdDetails_details= \"\"\"insert into productdetails values(%s,%s,%s,%s)\"\"\"\n",
    "val = [(1,1,2,1500), (2,3,5,30000), (3,5,1,3000), (4,2,3,2500), (5,4,1,1000)]\n",
    "cursor1.executemany(insert_ProdDetails_details,val)\n",
    "connection.commit()\n"
   ]
  },
  {
   "cell_type": "markdown",
   "id": "1df49086",
   "metadata": {
    "id": "1df49086"
   },
   "source": [
    "#### Table:  orders\n",
    "| ORD_ID | ORD_AMOUNT | ORD_DATE | CUS_ID | PROD_ID\n",
    "| --- | --- | --- | --- | --- |\n",
    "| 20 | 1500 | 2021-10-12 | 3 | 5 |\n",
    "| 25 | 30500 | 2021-09-16 | 5 | 2 |\n",
    "| 26 | 2000 | 2021-10-05 | 1 | 1 |\n",
    "| 30 | 3500 | 2021-08-16 | 4 | 3 |\n",
    "| 50 | 2000 | 2021-10-06 | 2 | 1 |"
   ]
  },
  {
   "cell_type": "code",
   "execution_count": 32,
   "id": "0d97dc92",
   "metadata": {
    "id": "0d97dc92"
   },
   "outputs": [],
   "source": [
    "insert_orders_details= \"\"\"insert into orders values(%s,%s,%s,%s,%s)\"\"\"\n",
    "val = [(20, 1500, \"2021-10-12\", 3,5), (25, 30500, \"2021-09-16\",5,2), (26, 2000, \"2021-10-05\",1,1), (30,3500, \"2021-08-16\", 4,3), (50, 2000, \"2021-10-06\", 2,1)]\n",
    "cursor1.executemany(insert_orders_details,val)\n",
    "connection.commit()\n"
   ]
  },
  {
   "cell_type": "markdown",
   "id": "75b8ce5f",
   "metadata": {
    "id": "75b8ce5f"
   },
   "source": [
    "#### Table: rating\n",
    "| RAT_ID | CUS_ID | SUPP_ID | RAT_RATSTARS |\n",
    "| --- | --- | --- | --- | \n",
    "| 1 | 2 | 2 | 4 |\n",
    "| 2 | 3 | 4 | 3 | \n",
    "| 3 | 5 | 1 | 5 |\n",
    "| 4 | 1 | 3 | 2 |\n",
    "| 5 | 4 | 5 | 4 |"
   ]
  },
  {
   "cell_type": "code",
   "execution_count": null,
   "id": "6d5f1e18",
   "metadata": {
    "id": "6d5f1e18"
   },
   "outputs": [],
   "source": [
    "insert_rating_details = \"\"\"insert into rating values(%s,%s,%s,%s)\"\"\"\n",
    "val = [(1,2,2,4),(2,3,4,3), (3,5,1,5), (4,1,3,2),(5,4,5,4)]\n",
    "cursor1.executemany(insert_rating_details,val)\n",
    "connection.commit()"
   ]
  },
  {
   "cell_type": "markdown",
   "id": "b59361c3",
   "metadata": {
    "id": "b59361c3"
   },
   "source": [
    "### Q3) Display the number of the customer group by their genders who have placed any order of amount greater than or equal to Rs.3000."
   ]
  },
  {
   "cell_type": "code",
   "execution_count": 51,
   "id": "fcafaf3c",
   "metadata": {
    "id": "fcafaf3c"
   },
   "outputs": [
    {
     "name": "stdout",
     "output_type": "stream",
     "text": [
      "[('M', 1), ('F', 1)]\n"
     ]
    }
   ],
   "source": [
    "connection = sqlcon.connect(host= \"localhost\", user = \"root\", passwd = \"root123\", database =\"ecommerce\")\n",
    "cursor1= connection.cursor()q= \"select c.cus_gender as 'Gender', count(*) from customer c, orders o where c.cus_id = o.cus_id and o.ord_Amount>=3000 group by c.cus_gender\"\n",
    "cursor1.execute(q)\n",
    "data = cursor1.fetchall()\n",
    "print(data)"
   ]
  },
  {
   "cell_type": "markdown",
   "id": "e49e04f5",
   "metadata": {
    "id": "e49e04f5"
   },
   "source": [
    "### Q4) Display all the order along with product name ordered by a customer having Customer_Id=2;"
   ]
  },
  {
   "cell_type": "code",
   "execution_count": 55,
   "id": "9dcb7883",
   "metadata": {
    "id": "9dcb7883"
   },
   "outputs": [
    {
     "name": "stdout",
     "output_type": "stream",
     "text": [
      "[(50, 'GTAV', 'AMAN')]\n"
     ]
    }
   ],
   "source": [
    "q= \"select ord_id, pro_name, cus_name from orders o, customer c, productdetails pd, product p where o.cus_id = c.cus_id and o.prod_id = pd.prod_id and pd.pro_id = p.pro_id and c.cus_id =2\"\n",
    "cursor1.execute(q)\n",
    "data = cursor1.fetchall()\n",
    "print(data) "
   ]
  },
  {
   "cell_type": "markdown",
   "id": "3a33398e",
   "metadata": {
    "id": "3a33398e"
   },
   "source": [
    "### Q5) Display the Supplier details who can supply more than one product."
   ]
  },
  {
   "cell_type": "code",
   "execution_count": 59,
   "id": "e933b979",
   "metadata": {
    "id": "e933b979"
   },
   "outputs": [
    {
     "name": "stdout",
     "output_type": "stream",
     "text": [
      "[(1, 'Rajesh Retails', 'Delhi', 1234567890)]\n"
     ]
    }
   ],
   "source": [
    "q= \"select s.* from supplier s where s.supp_id in (select supp_id from productdetails pd group by pd.supp_id having count(*)>1)\"\n",
    "cursor1.execute(q)\n",
    "data = cursor1.fetchall()\n",
    "print(data)"
   ]
  },
  {
   "cell_type": "markdown",
   "id": "5fd319ef",
   "metadata": {
    "id": "5fd319ef"
   },
   "source": [
    "### Q6) Find the category of the product whose order amount is minimum."
   ]
  },
  {
   "cell_type": "code",
   "execution_count": 60,
   "id": "06f5cb51",
   "metadata": {
    "id": "06f5cb51"
   },
   "outputs": [
    {
     "name": "stdout",
     "output_type": "stream",
     "text": [
      "[('GROCERIES',)]\n"
     ]
    }
   ],
   "source": [
    "q= \"select cat_name from category c where cat_id = (Select cat_id from product where pro_id =(select pro_id from productdetails where prod_id = (select prod_id from orders where ord_amount =(select min(ord_amount) from orders))))\"\n",
    "cursor1.execute(q)\n",
    "data = cursor1.fetchall()\n",
    "print(data)"
   ]
  },
  {
   "cell_type": "markdown",
   "id": "107102d4",
   "metadata": {
    "id": "107102d4"
   },
   "source": [
    "### Q7) Display the Id and Name of the Product ordered after “2021-10-05”."
   ]
  },
  {
   "cell_type": "code",
   "execution_count": 61,
   "id": "5d3fc7e8",
   "metadata": {
    "id": "5d3fc7e8"
   },
   "outputs": [
    {
     "name": "stdout",
     "output_type": "stream",
     "text": [
      "[(4, 'OATS'), (1, 'GTAV')]\n"
     ]
    }
   ],
   "source": [
    "q= \" select p.pro_id, p.pro_name from product p, productdetails pd, orders od where p.pro_id = pd.pro_id and pd.prod_id = od.prod_id and ord_date >'2021-10-05'  \"\n",
    "cursor1.execute(q)\n",
    "data = cursor1.fetchall()\n",
    "print(data)"
   ]
  },
  {
   "cell_type": "markdown",
   "id": "bdce7167",
   "metadata": {
    "id": "bdce7167"
   },
   "source": [
    "### Q8) Print the top 3 supplier name and id and rating on the basis of their rating along with the customer name who has given the rating."
   ]
  },
  {
   "cell_type": "code",
   "execution_count": 71,
   "id": "fa0cbe44",
   "metadata": {
    "id": "fa0cbe44"
   },
   "outputs": [
    {
     "name": "stdout",
     "output_type": "stream",
     "text": [
      "[('Rajesh Retails', 1, 5.0, 'PULKIT'), ('Appario Ltd', 2, 4.0, 'AMAN'), ('Mittal Ltd.', 5, 4.0, 'MEGHA')]\n"
     ]
    }
   ],
   "source": [
    "q= \"SELECT  supp_name, s.supp_id, rat_ratstars, cus_name FROM rating r, supplier s,    customer c WHERE r.cus_id = c.cus_id AND s.supp_id = r.supp_id ORDER BY r.rat_ratstars DESC LIMIT 0 , 3\"\n",
    "cursor1.execute(q)\n",
    "data = cursor1.fetchall()\n",
    "for i in data:\n",
    "    print(i)\n"
   ]
  },
  {
   "cell_type": "markdown",
   "id": "346ec2a1",
   "metadata": {
    "id": "346ec2a1"
   },
   "source": [
    "### Q9) Display customer name and gender whose names start or end with character 'A'."
   ]
  },
  {
   "cell_type": "code",
   "execution_count": 63,
   "id": "e571b5fd",
   "metadata": {
    "id": "e571b5fd"
   },
   "outputs": [
    {
     "name": "stdout",
     "output_type": "stream",
     "text": [
      "[('Aakash', 'M'), ('AMAN', 'M'), ('NEHA', 'F'), ('MEGHA', 'F')]\n"
     ]
    }
   ],
   "source": [
    "q= \"select cus_name, cus_gender from customer where cus_name like 'A%' or cus_name like '%A' \"\n",
    "cursor1.execute(q)\n",
    "data = cursor1.fetchall()\n",
    "print(data)"
   ]
  },
  {
   "cell_type": "markdown",
   "id": "d0b01f77",
   "metadata": {
    "id": "d0b01f77"
   },
   "source": [
    "### Q10) Display the total order amount of the male customers."
   ]
  },
  {
   "cell_type": "code",
   "execution_count": 65,
   "id": "c3fa76e3",
   "metadata": {
    "id": "c3fa76e3"
   },
   "outputs": [
    {
     "name": "stdout",
     "output_type": "stream",
     "text": [
      "[(Decimal('34500'),)]\n"
     ]
    }
   ],
   "source": [
    "q= \"select sum(ord_amount) as 'Total Sum' from customer c, orders O where c.cus_gender= 'M' and c.cus_id = O.cus_id\"\n",
    "cursor1.execute(q)\n",
    "data = cursor1.fetchall()\n",
    "print(data)"
   ]
  },
  {
   "cell_type": "markdown",
   "id": "ff8a9971",
   "metadata": {
    "id": "ff8a9971"
   },
   "source": [
    "### Q11) Display all the Customers left outer join with  the orders"
   ]
  },
  {
   "cell_type": "code",
   "execution_count": 69,
   "id": "a340c6d6",
   "metadata": {
    "id": "a340c6d6"
   },
   "outputs": [
    {
     "name": "stdout",
     "output_type": "stream",
     "text": [
      "(1, 'Aakash', 9999999999, 'DELHI', 'M', 26, 2000, datetime.date(2021, 10, 5), 1, 1)\n",
      "(2, 'AMAN', 9785463215, 'NOIDA', 'M', 50, 2000, datetime.date(2021, 10, 6), 2, 1)\n",
      "(3, 'NEHA', 99999999998, 'MUMBAI', 'F', 20, 1500, datetime.date(2021, 10, 12), 3, 5)\n",
      "(4, 'MEGHA', 9994562399, 'KOLKATA', 'F', 30, 3500, datetime.date(2021, 8, 16), 4, 3)\n",
      "(5, 'PULKIT', 7895999999, 'LUCKNOW', 'M', 25, 30500, datetime.date(2021, 9, 16), 5, 2)\n"
     ]
    }
   ],
   "source": [
    "q= \"select * from customer c left join orders o on c.cus_id = o.cus_id \"\n",
    "cursor1.execute(q)\n",
    "data = cursor1.fetchall()\n",
    "for i in data:\n",
    "    print(i)"
   ]
  },
  {
   "cell_type": "markdown",
   "id": "0a72afe3",
   "metadata": {
    "id": "0a72afe3"
   },
   "source": [
    "**NOTE:** Always close an open connection once you are done with the database operations"
   ]
  },
  {
   "cell_type": "markdown",
   "id": "8c88f479",
   "metadata": {
    "id": "8c88f479"
   },
   "source": [
    "## Happy Learning:)"
   ]
  }
 ],
 "metadata": {
  "colab": {
   "name": "Lab Session  -  E-Commerce.ipynb",
   "provenance": []
  },
  "kernelspec": {
   "display_name": "Python 3 (ipykernel)",
   "language": "python",
   "name": "python3"
  },
  "language_info": {
   "codemirror_mode": {
    "name": "ipython",
    "version": 3
   },
   "file_extension": ".py",
   "mimetype": "text/x-python",
   "name": "python",
   "nbconvert_exporter": "python",
   "pygments_lexer": "ipython3",
   "version": "3.9.12"
  }
 },
 "nbformat": 4,
 "nbformat_minor": 5
}
